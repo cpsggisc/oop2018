{
 "cells": [
  {
   "cell_type": "code",
   "execution_count": 11,
   "metadata": {},
   "outputs": [
    {
     "name": "stdout",
     "output_type": "stream",
     "text": [
      "Name: Mr Tai\n",
      "Weight: 79\n",
      "Height: 1.9\n",
      "Name: Mr Wong\n",
      "Weight: 59\n",
      "Height: 1.75\n"
     ]
    }
   ],
   "source": [
    "# Encapsulation\n",
    "class Person:\n",
    "    \n",
    "    def __init__(self, pname, pweight, pheight):\n",
    "        ''' constructor '''\n",
    "        self.name = pname\n",
    "        self.weight = pweight\n",
    "        self.height = pheight\n",
    "     \n",
    "    def get_name(self):\n",
    "        ''' name assessor '''\n",
    "        return self.name\n",
    "     \n",
    "    def get_weight(self):\n",
    "        ''' weight assessor '''\n",
    "        return self.weight\n",
    "     \n",
    "    def get_height(self):\n",
    "        ''' height assessor '''\n",
    "        return self.height    \n",
    "    \n",
    "    def set_weight(self, new_weight):\n",
    "        ''' weight modifier/mutator '''\n",
    "        self.weight = new_weight\n",
    "    \n",
    "    def set_height(self, new_height):\n",
    "        ''' height modifier/mutator '''\n",
    "        self.height = new_height\n",
    "\n",
    "    def display(self):\n",
    "        ''' helper/support '''\n",
    "        print(\"Name:\", self.name)\n",
    "        print(\"Weight:\", self.weight)\n",
    "        print(\"Height:\", self.height)\n",
    "    \n",
    "# main\n",
    "p1 = Person(\"Mr Tai\", 79, 1.90)\n",
    "p2 = Person(\"Mr Wong\", 59, 1.75)\n",
    "p1.display()\n",
    "p2.display()"
   ]
  },
  {
   "cell_type": "code",
   "execution_count": 16,
   "metadata": {},
   "outputs": [
    {
     "name": "stdout",
     "output_type": "stream",
     "text": [
      "Name: Mr Tai\n",
      "Weight: 79\n",
      "Height: 1.9\n",
      "Class: 5C33\n",
      "Name: Mr Wong\n",
      "Weight: 59\n",
      "Height: 1.75\n",
      "Class: 5C33\n"
     ]
    }
   ],
   "source": [
    "# Inheritance\n",
    "class Student(Person):\n",
    "    \n",
    "    def __init__(self, pname, pweight, pheight, sclassid):\n",
    "        super().__init__(pname, pweight, pheight)\n",
    "        self.classid = sclassid\n",
    "\n",
    "    def get_classid(self):\n",
    "        return self.classid\n",
    "    \n",
    "    def set_classid(self, new_classid):\n",
    "        self.classid = new_classid\n",
    "        \n",
    "    def display(self):\n",
    "        super().display()\n",
    "        print(\"Class:\", self.classid)\n",
    "        \n",
    "# main\n",
    "student1 = Student(\"Mr Tai\", 79, 1.90, \"5C33\")\n",
    "student2 = Student(\"Mr Wong\", 59, 1.75, \"5C33\")\n",
    "student1.display()\n",
    "student2.display()"
   ]
  },
  {
   "cell_type": "code",
   "execution_count": 15,
   "metadata": {},
   "outputs": [
    {
     "data": {
      "text/plain": [
       "'Mr Tai'"
      ]
     },
     "execution_count": 15,
     "metadata": {},
     "output_type": "execute_result"
    }
   ],
   "source": [
    "student1.get_name()"
   ]
  },
  {
   "cell_type": "code",
   "execution_count": 18,
   "metadata": {},
   "outputs": [
    {
     "name": "stdout",
     "output_type": "stream",
     "text": [
      "Name: Mr Tom\n",
      "Weight: 65\n",
      "Height: 1.8\n",
      "Department: Math\n",
      "Name: Miss Mary\n",
      "Weight: 59\n",
      "Height: 1.6\n",
      "Department: Science\n"
     ]
    }
   ],
   "source": [
    "class Staff(Person):\n",
    "    \n",
    "    def __init__(self, pname, pweight, pheight, sdepartment):\n",
    "        super().__init__(pname, pweight, pheight)\n",
    "        self.department = sdepartment\n",
    "\n",
    "    def get_department(self):\n",
    "        return self.department\n",
    "    \n",
    "    def set_department(self, new_department):\n",
    "        self.department = new_department\n",
    "        \n",
    "    def display(self):\n",
    "        super().display()\n",
    "        print(\"Department:\", self.department)\n",
    "        \n",
    "# main\n",
    "staff1 = Staff(\"Mr Tom\", 65, 1.80, \"Math\")\n",
    "staff2 = Staff(\"Miss Mary\", 59, 1.60, \"Science\")\n",
    "staff1.display()\n",
    "staff2.display()"
   ]
  },
  {
   "cell_type": "code",
   "execution_count": 19,
   "metadata": {},
   "outputs": [
    {
     "name": "stdout",
     "output_type": "stream",
     "text": [
      "Name: Mr Tai\n",
      "Weight: 79\n",
      "Height: 1.9\n",
      "Class: 5C33\n",
      "Name: Mr Wong\n",
      "Weight: 59\n",
      "Height: 1.75\n",
      "Class: 5C33\n",
      "Name: Mr Tom\n",
      "Weight: 65\n",
      "Height: 1.8\n",
      "Department: Math\n",
      "Name: Miss Mary\n",
      "Weight: 59\n",
      "Height: 1.6\n",
      "Department: Science\n"
     ]
    }
   ],
   "source": [
    "# polymorphism\n",
    "school = [student1, student2, staff1, staff2]\n",
    "for user in school:\n",
    "    user.display()"
   ]
  },
  {
   "cell_type": "code",
   "execution_count": null,
   "metadata": {
    "collapsed": true
   },
   "outputs": [],
   "source": []
  }
 ],
 "metadata": {
  "kernelspec": {
   "display_name": "Python 3",
   "language": "python",
   "name": "python3"
  },
  "language_info": {
   "codemirror_mode": {
    "name": "ipython",
    "version": 3
   },
   "file_extension": ".py",
   "mimetype": "text/x-python",
   "name": "python",
   "nbconvert_exporter": "python",
   "pygments_lexer": "ipython3",
   "version": "3.6.3"
  }
 },
 "nbformat": 4,
 "nbformat_minor": 2
}
